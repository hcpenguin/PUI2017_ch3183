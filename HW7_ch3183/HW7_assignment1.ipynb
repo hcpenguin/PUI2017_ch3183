{
 "cells": [
  {
   "cell_type": "markdown",
   "metadata": {},
   "source": [
    "This homework is based on HW3 assignment 2, based on the review comments from professor, I refrase the Idea and NULL hypothesis, to make them more clear and more importantly, correctly matching my analysis."
   ]
  },
  {
   "cell_type": "markdown",
   "metadata": {},
   "source": [
    "Orginally I was trying to compare people use bikes for commute, and I defined commute as usage during Monday to Friday . But same as reviewer pointed out, with further thinking, that is a really questionable defination since a lot of visitors are using CitiBike on weekdays as well. So the idea is simplified and is more clearly defined : comparing two age groups riders' usage on weekends/weekdays. "
   ]
  },
  {
   "cell_type": "markdown",
   "metadata": {},
   "source": [
    "# Idea: Bikers over 30 years old are less likely to use Citibike on weekends over weekdays than bikers under 30."
   ]
  },
  {
   "cell_type": "markdown",
   "metadata": {},
   "source": [
    "# NULL HYPOTHESIS:\n",
    "\n",
    "The ratio of riders who are over 30 years old biking on weekends over the weekdays is the same or higher than the ratio of riders who are under 30 years old biking on weekends over biking on weekdays\n",
    "\n",
    "H_0: frac{{under30{weekend}}{under30{{week}}} <= frac{over30{weekend}}{over30{week}}\n",
    "\n",
    "H_1: frac{under30{weekend}}{under30{week}}} > frac{over30{weekend}}{over30{week}}\n",
    "\n",
    "or:\n",
    "\n",
    "H_0: frac{{under30{weekend}}{under30{week}}} - frac{over30{weekend}}}{over30{week}}} <= 0 \n",
    "\n",
    "H_1: frac{{under30{weekend}}{under30{week}}} - frac{over30{weekend}}}{over30{week}}} > 0\n",
    "\n",
    "**significance level  alpha=0.05"
   ]
  },
  {
   "cell_type": "code",
   "execution_count": 16,
   "metadata": {},
   "outputs": [
    {
     "name": "stdout",
     "output_type": "stream",
     "text": [
      "Populating the interactive namespace from numpy and matplotlib\n"
     ]
    }
   ],
   "source": [
    "from __future__  import print_function, division\n",
    "import pylab as pl\n",
    "import pandas as pd\n",
    "import numpy as np\n",
    "import os\n",
    "import matplotlib.pyplot as plt\n",
    "%pylab inline\n",
    "\n",
    "if os.getenv ('PUI2017') is None:\n",
    "    print (\"Must set env variable PUI2017\")\n",
    "if os.getenv ('PUIDATA') is None:\n",
    "    print (\"Must set env variable PUIDATA\")\n",
    "\n",
    "import os\n",
    "import json\n",
    "#s = json.load( open(os.getenv('PUI2017') + \"/fbb_matplotlibrc.json\") )\n",
    "#pl.rcParams.update(s)"
   ]
  },
  {
   "cell_type": "code",
   "execution_count": 17,
   "metadata": {
    "collapsed": true
   },
   "outputs": [],
   "source": [
    "def getCitiBikeCSV(datestring):\n",
    "    print (\"Downloading\", datestring)\n",
    "    ### First I will heck that it is not already there\n",
    "    if not os.path.isfile(os.getenv(\"PUIDATA\") + \"/\" + datestring + \"-citibike-tripdata.csv\"):\n",
    "        if os.path.isfile(datestring + \"-citibike-tripdata.csv\"):\n",
    "            # if in the current dir just move it\n",
    "            if os.system(\"mv \" + datestring + \"-citibike-tripdata.csv \" + os.getenv(\"PUIDATA\")):\n",
    "                print (\"Error moving file!, Please check!\")\n",
    "        #otherwise start looking for the zip file\n",
    "        else:\n",
    "            if not os.path.isfile(os.getenv(\"PUIDATA\") + \"/\" + datestring + \"-citibike-tripdata.zip\"):\n",
    "                if not os.path.isfile(datestring + \"-citibike-tripdata.zip\"):\n",
    "                    os.system(\"curl -O https://s3.amazonaws.com/tripdata/\" + datestring + \"-citibike-tripdata.zip\")\n",
    "                ###  To move it I use the os.system() functions to run bash commands with arguments\n",
    "                os.system(\"mv \" + datestring + \"-citibike-tripdata.zip \" + os.getenv(\"PUIDATA\"))\n",
    "            ### unzip the csv \n",
    "            os.system(\"unzip \" + os.getenv(\"PUIDATA\") + \"/\" + datestring + \"-citibike-tripdata.zip\")\n",
    "            ## NOTE: old csv citibike data had a different name structure. \n",
    "            if '2014' in datestring:\n",
    "                os.system(\"mv \" + datestring[:4] + '-' +  datestring[4:] + \n",
    "                          \"\\ -\\ Citi\\ Bike\\ trip\\ data.csv \" + datestring + \"-citibike-tripdata.csv\")\n",
    "            os.system(\"mv \" + datestring + \"-citibike-tripdata.csv \" + os.getenv(\"PUIDATA\"))\n",
    "    ### One final check:\n",
    "    if not os.path.isfile(os.getenv(\"PUIDATA\") + \"/\" + datestring + \"-citibike-tripdata.csv\"):\n",
    "        print (\"WARNING!!! something is wrong: the file is not there!\")\n",
    "\n",
    "    else:\n",
    "        print (\"file in place, you can continue\")"
   ]
  },
  {
   "cell_type": "code",
   "execution_count": 18,
   "metadata": {},
   "outputs": [
    {
     "name": "stdout",
     "output_type": "stream",
     "text": [
      "Downloading 201606\n",
      "file in place, you can continue\n"
     ]
    }
   ],
   "source": [
    "#choose time period and download csv file\n",
    "datestring='201606'\n",
    "getCitiBikeCSV(datestring)"
   ]
  },
  {
   "cell_type": "code",
   "execution_count": 19,
   "metadata": {},
   "outputs": [
    {
     "data": {
      "text/html": [
       "<div>\n",
       "<style>\n",
       "    .dataframe thead tr:only-child th {\n",
       "        text-align: right;\n",
       "    }\n",
       "\n",
       "    .dataframe thead th {\n",
       "        text-align: left;\n",
       "    }\n",
       "\n",
       "    .dataframe tbody tr th {\n",
       "        vertical-align: top;\n",
       "    }\n",
       "</style>\n",
       "<table border=\"1\" class=\"dataframe\">\n",
       "  <thead>\n",
       "    <tr style=\"text-align: right;\">\n",
       "      <th></th>\n",
       "      <th>tripduration</th>\n",
       "      <th>starttime</th>\n",
       "      <th>stoptime</th>\n",
       "      <th>start station id</th>\n",
       "      <th>start station name</th>\n",
       "      <th>start station latitude</th>\n",
       "      <th>start station longitude</th>\n",
       "      <th>end station id</th>\n",
       "      <th>end station name</th>\n",
       "      <th>end station latitude</th>\n",
       "      <th>end station longitude</th>\n",
       "      <th>bikeid</th>\n",
       "      <th>usertype</th>\n",
       "      <th>birth year</th>\n",
       "      <th>gender</th>\n",
       "      <th>date</th>\n",
       "    </tr>\n",
       "  </thead>\n",
       "  <tbody>\n",
       "    <tr>\n",
       "      <th>0</th>\n",
       "      <td>1470</td>\n",
       "      <td>6/1/2016 00:00:18</td>\n",
       "      <td>6/1/2016 00:24:48</td>\n",
       "      <td>380</td>\n",
       "      <td>W 4 St &amp; 7 Ave S</td>\n",
       "      <td>40.734011</td>\n",
       "      <td>-74.002939</td>\n",
       "      <td>3236</td>\n",
       "      <td>W 42 St &amp; Dyer Ave</td>\n",
       "      <td>40.758985</td>\n",
       "      <td>-73.993800</td>\n",
       "      <td>19859</td>\n",
       "      <td>Subscriber</td>\n",
       "      <td>1972.0</td>\n",
       "      <td>1</td>\n",
       "      <td>2016-06-01 00:00:18</td>\n",
       "    </tr>\n",
       "    <tr>\n",
       "      <th>1</th>\n",
       "      <td>229</td>\n",
       "      <td>6/1/2016 00:00:20</td>\n",
       "      <td>6/1/2016 00:04:09</td>\n",
       "      <td>3092</td>\n",
       "      <td>Berry St &amp; N 8 St</td>\n",
       "      <td>40.719009</td>\n",
       "      <td>-73.958525</td>\n",
       "      <td>3103</td>\n",
       "      <td>N 11 St &amp; Wythe Ave</td>\n",
       "      <td>40.721533</td>\n",
       "      <td>-73.957824</td>\n",
       "      <td>16233</td>\n",
       "      <td>Subscriber</td>\n",
       "      <td>1967.0</td>\n",
       "      <td>1</td>\n",
       "      <td>2016-06-01 00:00:20</td>\n",
       "    </tr>\n",
       "    <tr>\n",
       "      <th>2</th>\n",
       "      <td>344</td>\n",
       "      <td>6/1/2016 00:00:21</td>\n",
       "      <td>6/1/2016 00:06:06</td>\n",
       "      <td>449</td>\n",
       "      <td>W 52 St &amp; 9 Ave</td>\n",
       "      <td>40.764618</td>\n",
       "      <td>-73.987895</td>\n",
       "      <td>469</td>\n",
       "      <td>Broadway &amp; W 53 St</td>\n",
       "      <td>40.763441</td>\n",
       "      <td>-73.982681</td>\n",
       "      <td>22397</td>\n",
       "      <td>Subscriber</td>\n",
       "      <td>1989.0</td>\n",
       "      <td>1</td>\n",
       "      <td>2016-06-01 00:00:21</td>\n",
       "    </tr>\n",
       "    <tr>\n",
       "      <th>3</th>\n",
       "      <td>1120</td>\n",
       "      <td>6/1/2016 00:00:28</td>\n",
       "      <td>6/1/2016 00:19:09</td>\n",
       "      <td>522</td>\n",
       "      <td>E 51 St &amp; Lexington Ave</td>\n",
       "      <td>40.757148</td>\n",
       "      <td>-73.972078</td>\n",
       "      <td>401</td>\n",
       "      <td>Allen St &amp; Rivington St</td>\n",
       "      <td>40.720196</td>\n",
       "      <td>-73.989978</td>\n",
       "      <td>16231</td>\n",
       "      <td>Subscriber</td>\n",
       "      <td>1991.0</td>\n",
       "      <td>1</td>\n",
       "      <td>2016-06-01 00:00:28</td>\n",
       "    </tr>\n",
       "    <tr>\n",
       "      <th>4</th>\n",
       "      <td>229</td>\n",
       "      <td>6/1/2016 00:00:53</td>\n",
       "      <td>6/1/2016 00:04:42</td>\n",
       "      <td>335</td>\n",
       "      <td>Washington Pl &amp; Broadway</td>\n",
       "      <td>40.729039</td>\n",
       "      <td>-73.994046</td>\n",
       "      <td>285</td>\n",
       "      <td>Broadway &amp; E 14 St</td>\n",
       "      <td>40.734546</td>\n",
       "      <td>-73.990741</td>\n",
       "      <td>15400</td>\n",
       "      <td>Subscriber</td>\n",
       "      <td>1989.0</td>\n",
       "      <td>1</td>\n",
       "      <td>2016-06-01 00:00:53</td>\n",
       "    </tr>\n",
       "  </tbody>\n",
       "</table>\n",
       "</div>"
      ],
      "text/plain": [
       "   tripduration          starttime           stoptime  start station id  \\\n",
       "0          1470  6/1/2016 00:00:18  6/1/2016 00:24:48               380   \n",
       "1           229  6/1/2016 00:00:20  6/1/2016 00:04:09              3092   \n",
       "2           344  6/1/2016 00:00:21  6/1/2016 00:06:06               449   \n",
       "3          1120  6/1/2016 00:00:28  6/1/2016 00:19:09               522   \n",
       "4           229  6/1/2016 00:00:53  6/1/2016 00:04:42               335   \n",
       "\n",
       "         start station name  start station latitude  start station longitude  \\\n",
       "0          W 4 St & 7 Ave S               40.734011               -74.002939   \n",
       "1         Berry St & N 8 St               40.719009               -73.958525   \n",
       "2           W 52 St & 9 Ave               40.764618               -73.987895   \n",
       "3   E 51 St & Lexington Ave               40.757148               -73.972078   \n",
       "4  Washington Pl & Broadway               40.729039               -73.994046   \n",
       "\n",
       "   end station id         end station name  end station latitude  \\\n",
       "0            3236       W 42 St & Dyer Ave             40.758985   \n",
       "1            3103      N 11 St & Wythe Ave             40.721533   \n",
       "2             469       Broadway & W 53 St             40.763441   \n",
       "3             401  Allen St & Rivington St             40.720196   \n",
       "4             285       Broadway & E 14 St             40.734546   \n",
       "\n",
       "   end station longitude  bikeid    usertype  birth year  gender  \\\n",
       "0             -73.993800   19859  Subscriber      1972.0       1   \n",
       "1             -73.957824   16233  Subscriber      1967.0       1   \n",
       "2             -73.982681   22397  Subscriber      1989.0       1   \n",
       "3             -73.989978   16231  Subscriber      1991.0       1   \n",
       "4             -73.990741   15400  Subscriber      1989.0       1   \n",
       "\n",
       "                 date  \n",
       "0 2016-06-01 00:00:18  \n",
       "1 2016-06-01 00:00:20  \n",
       "2 2016-06-01 00:00:21  \n",
       "3 2016-06-01 00:00:28  \n",
       "4 2016-06-01 00:00:53  "
      ]
     },
     "execution_count": 19,
     "metadata": {},
     "output_type": "execute_result"
    }
   ],
   "source": [
    "datestring='201606'\n",
    "\n",
    "#load data to dataframe\n",
    "df = pd.read_csv(os.getenv(\"PUIDATA\") + \"/\" + datestring + '-citibike-tripdata.csv')\n",
    "#print(os.getenv(\"PUIDATA\") + \"/\" + datestring + '-citibike-tripdata.csv')\n",
    "df['date'] = pd.to_datetime(df['starttime'])\n",
    "df.head()"
   ]
  },
  {
   "cell_type": "code",
   "execution_count": 20,
   "metadata": {},
   "outputs": [
    {
     "data": {
      "text/plain": [
       "Index(['tripduration', 'starttime', 'stoptime', 'start station id',\n",
       "       'start station name', 'start station latitude',\n",
       "       'start station longitude', 'end station id', 'end station name',\n",
       "       'end station latitude', 'end station longitude', 'bikeid', 'usertype',\n",
       "       'birth year', 'gender', 'date'],\n",
       "      dtype='object')"
      ]
     },
     "execution_count": 20,
     "metadata": {},
     "output_type": "execute_result"
    }
   ],
   "source": [
    "df.columns"
   ]
  },
  {
   "cell_type": "code",
   "execution_count": 21,
   "metadata": {},
   "outputs": [],
   "source": [
    "df_select = df[['date','birth year']]"
   ]
  },
  {
   "cell_type": "code",
   "execution_count": 22,
   "metadata": {},
   "outputs": [
    {
     "data": {
      "text/html": [
       "<div>\n",
       "<style>\n",
       "    .dataframe thead tr:only-child th {\n",
       "        text-align: right;\n",
       "    }\n",
       "\n",
       "    .dataframe thead th {\n",
       "        text-align: left;\n",
       "    }\n",
       "\n",
       "    .dataframe tbody tr th {\n",
       "        vertical-align: top;\n",
       "    }\n",
       "</style>\n",
       "<table border=\"1\" class=\"dataframe\">\n",
       "  <thead>\n",
       "    <tr style=\"text-align: right;\">\n",
       "      <th></th>\n",
       "      <th>date</th>\n",
       "      <th>birth year</th>\n",
       "    </tr>\n",
       "  </thead>\n",
       "  <tbody>\n",
       "    <tr>\n",
       "      <th>0</th>\n",
       "      <td>2016-06-01 00:00:18</td>\n",
       "      <td>1972.0</td>\n",
       "    </tr>\n",
       "    <tr>\n",
       "      <th>1</th>\n",
       "      <td>2016-06-01 00:00:20</td>\n",
       "      <td>1967.0</td>\n",
       "    </tr>\n",
       "    <tr>\n",
       "      <th>2</th>\n",
       "      <td>2016-06-01 00:00:21</td>\n",
       "      <td>1989.0</td>\n",
       "    </tr>\n",
       "    <tr>\n",
       "      <th>3</th>\n",
       "      <td>2016-06-01 00:00:28</td>\n",
       "      <td>1991.0</td>\n",
       "    </tr>\n",
       "    <tr>\n",
       "      <th>4</th>\n",
       "      <td>2016-06-01 00:00:53</td>\n",
       "      <td>1989.0</td>\n",
       "    </tr>\n",
       "  </tbody>\n",
       "</table>\n",
       "</div>"
      ],
      "text/plain": [
       "                 date  birth year\n",
       "0 2016-06-01 00:00:18      1972.0\n",
       "1 2016-06-01 00:00:20      1967.0\n",
       "2 2016-06-01 00:00:21      1989.0\n",
       "3 2016-06-01 00:00:28      1991.0\n",
       "4 2016-06-01 00:00:53      1989.0"
      ]
     },
     "execution_count": 22,
     "metadata": {},
     "output_type": "execute_result"
    }
   ],
   "source": [
    "df_select.head()"
   ]
  },
  {
   "cell_type": "code",
   "execution_count": 23,
   "metadata": {},
   "outputs": [
    {
     "data": {
      "text/plain": [
       "1460318"
      ]
     },
     "execution_count": 23,
     "metadata": {},
     "output_type": "execute_result"
    }
   ],
   "source": [
    "len(df_select)"
   ]
  },
  {
   "cell_type": "code",
   "execution_count": 24,
   "metadata": {
    "collapsed": true
   },
   "outputs": [],
   "source": [
    "df_select = df_select[df_select['birth year'].notnull()]"
   ]
  },
  {
   "cell_type": "code",
   "execution_count": 25,
   "metadata": {},
   "outputs": [
    {
     "data": {
      "text/plain": [
       "1265112"
      ]
     },
     "execution_count": 25,
     "metadata": {},
     "output_type": "execute_result"
    }
   ],
   "source": [
    "len(df_select)"
   ]
  },
  {
   "cell_type": "code",
   "execution_count": 40,
   "metadata": {},
   "outputs": [],
   "source": [
    "#calculate how the total counts,error of rider over/under 30\n",
    "counts_over30 = df_select['date'][df_select['birth year']<(2017-30)].groupby([df_select['date'].dt.weekday]).count() \n",
    "counts_under30 = df_select['date'][df_select['birth year']>(2017-30)].groupby([df_select['date'].dt.weekday]).count() + df_select['date'][df_select['birth year']==(2017-30)].groupby([df_select['date'].dt.weekday]).count()\n",
    "error_over30 = np.sqrt(counts_over30)\n",
    "error_under30 = np.sqrt(counts_under30)"
   ]
  },
  {
   "cell_type": "code",
   "execution_count": 41,
   "metadata": {
    "collapsed": true
   },
   "outputs": [],
   "source": [
    "#plot function\n",
    "def PlotTheDistribution (counts1, counts2, norm1, norm2, error1, error2, ylabel):\n",
    "    fig = pl.figure(figsize(10,10))\n",
    "    ((counts1) / norm1).plot(kind=\"bar\", color='IndianRed', yerr=[\n",
    "            ((error1) / norm1, (error1) / norm1)], alpha=0.5, label='RiderOver30')\n",
    "    ax = ((counts2) / norm2).plot(kind=\"bar\", color='SteelBlue', yerr=[\n",
    "            ((error2) / norm2, (error2) / norm2)], alpha=0.5, label='RiderUnder30')\n",
    "    tmp = ax.xaxis.set_ticklabels(['Mon', 'Tue', 'Wed', 'Thu', 'Fri', 'Sat', 'Sun'], fontsize=20)\n",
    "    ax.set_ylabel (ylabel,fontsize=16)\n",
    "    ax.set_xlabel (\"Day of the week\",fontsize=16)\n",
    "    ax.set_title (\"Distribution of Citibike bikers by age over 30 or under 30\",fontsize=20)\n",
    "    pl.legend(fontsize=20)"
   ]
  },
  {
   "cell_type": "code",
   "execution_count": 42,
   "metadata": {},
   "outputs": [
    {
     "data": {
      "image/png": "[encoded data removed]",
      "text/plain": [
       "<matplotlib.figure.Figure at 0x112ae8d68>"
      ]
     },
     "metadata": {},
     "output_type": "display_data"
    }
   ],
   "source": [
    "#Unnormalized with error info plot\n",
    "norm_over30 = 1\n",
    "norm_under30 = 1\n",
    "PlotTheDistribution(counts_over30, counts_under30, norm_over30, norm_under30, error_over30, error_under30,'Number of Rides')"
   ]
  },
  {
   "cell_type": "markdown",
   "metadata": {},
   "source": [
    "# Figure 1a: Distribution of Citibike bikers by age over 30 and under 30 in June 2016, absolute counts with error info"
   ]
  },
  {
   "cell_type": "code",
   "execution_count": 43,
   "metadata": {},
   "outputs": [
    {
     "data": {
      "image/png": "[encoded data removed]",
      "text/plain": [
       "<matplotlib.figure.Figure at 0x11002b7b8>"
      ]
     },
     "metadata": {},
     "output_type": "display_data"
    }
   ],
   "source": [
    "#Normalized with error info plot\n",
    "norm_over30 = counts_over30.sum()\n",
    "norm_under30 = counts_under30.sum() \n",
    "PlotTheDistribution(counts_over30, counts_under30, norm_over30, norm_under30, error_over30, error_under30, 'Fraction of Rides')"
   ]
  },
  {
   "cell_type": "code",
   "execution_count": 44,
   "metadata": {
    "collapsed": true
   },
   "outputs": [],
   "source": [
    "#Function of riders age group fraction during the week\n",
    "def PlotTheFraction(fraction1, fraction2, error1, error2, timeline):\n",
    "    fig = plt.figure(figsize(8,8))\n",
    "    plt.errorbar([0.4], [fraction1], yerr=[error1], fmt='o', label='RiderOver30')\n",
    "    plt.errorbar([0.2], [fraction2], yerr=[error2], fmt='o', label='RiderUnder30')\n",
    "    plt.title(timeline, fontsize=20)\n",
    "    plt.xlim(0, 0.5)\n",
    "    plt.xticks([])\n",
    "    plt.ylabel(\"Fraction of normalized rides by Age\",fontsize=16)\n",
    "    plt.legend(fontsize=20)\n",
    "    plt.show()"
   ]
  },
  {
   "cell_type": "code",
   "execution_count": 45,
   "metadata": {},
   "outputs": [
    {
     "name": "stdout",
     "output_type": "stream",
     "text": [
      "RiderOver30: week:0.8231, weekend:0.1769, week error:0.0009, weekend error:0.0004\n",
      "RiderUnder30: week:0.7838, weekend:0.2162, week error:0.0015, weekend error:0.0008\n"
     ]
    }
   ],
   "source": [
    "#Fraction of riders over 30 that bikes during the weekdays \n",
    "#and the fraction that bikes during weekends, and the same for the use under30\n",
    "week_over30 = sum(counts_over30[:-2]) * 1.0 / norm_over30\n",
    "weekend_over30 = sum(counts_over30[-2:])*1.0 / norm_over30\n",
    "week_over30_error = np.sqrt(sum(error_over30[:-2]**2)) / norm_over30\n",
    "weekend_over30_error = np.sqrt(sum(error_over30[-2:]**2)) / norm_over30\n",
    "week_under30 = sum(counts_under30[:-2]) * 1.0 / norm_under30\n",
    "weekend_under30 = sum(counts_under30[-2:])*1.0 / norm_under30\n",
    "week_under30_error = np.sqrt(sum(error_under30[:-2]**2)) / norm_under30\n",
    "weekend_under30_error = np.sqrt(sum(error_under30[-2:]**2)) / norm_under30\n",
    "print(\"RiderOver30: week:{0:.4f}, weekend:{1:.4f}, week error:{2:.4f}, weekend error:{3:.4f}\"\\\n",
    "      .format(week_over30, weekend_over30, week_over30_error, weekend_over30_error))\n",
    "print(\"RiderUnder30: week:{0:.4f}, weekend:{1:.4f}, week error:{2:.4f}, weekend error:{3:.4f}\"\\\n",
    "      .format(week_under30, weekend_under30, week_under30_error, weekend_under30_error))"
   ]
  },
  {
   "cell_type": "code",
   "execution_count": 46,
   "metadata": {},
   "outputs": [
    {
     "data": {
      "image/png": "[encoded data removed]",
      "text/plain": [
       "<matplotlib.figure.Figure at 0x1138b5390>"
      ]
     },
     "metadata": {},
     "output_type": "display_data"
    }
   ],
   "source": [
    "#Plot the fraction of Riders on week days with error\n",
    "PlotTheFraction(week_over30, week_under30, week_over30_error, week_under30_error, 'Week Days')"
   ]
  },
  {
   "cell_type": "code",
   "execution_count": 47,
   "metadata": {},
   "outputs": [
    {
     "data": {
      "image/png": "[encoded data removed]",
      "text/plain": [
       "<matplotlib.figure.Figure at 0x1100d13c8>"
      ]
     },
     "metadata": {},
     "output_type": "display_data"
    }
   ],
   "source": [
    "#Plot the fraction of Users on weekends with error\n",
    "PlotTheFraction(weekend_over30, weekend_under30, weekend_over30_error, weekend_under30_error, 'Weekends')"
   ]
  },
  {
   "cell_type": "code",
   "execution_count": 48,
   "metadata": {},
   "outputs": [
    {
     "name": "stdout",
     "output_type": "stream",
     "text": [
      "difference between fraction of riders over 30 and fraction of riders under 30 on weekends:  0.039322993857903915\n",
      "We must check the significance before we reject the Null Hypothesis\n"
     ]
    }
   ],
   "source": [
    "P0mP1 = weekend_under30 - weekend_over30\n",
    "print (\"difference between fraction of riders over 30 and fraction of riders under 30 on weekends: \", P0mP1)\n",
    "if P0mP1 <= 0:\n",
    "    print(\"In accordance with Null Hypothesis\")\n",
    "else:\n",
    "    print (\"We must check the significance before we reject the Null Hypothesis\")"
   ]
  },
  {
   "cell_type": "markdown",
   "metadata": {},
   "source": [
    "# Z Test(just for reference, this project we use the Chi Square test below)"
   ]
  },
  {
   "cell_type": "code",
   "execution_count": 49,
   "metadata": {},
   "outputs": [
    {
     "name": "stdout",
     "output_type": "stream",
     "text": [
      "The z statistics is 49.81\n"
     ]
    }
   ],
   "source": [
    "p = lambda p0, p1, n0, n1: (p0 * n0 + p1 * n1) / (n0 + n1)\n",
    "se = lambda p, n0, n1: np.sqrt(p * (1 - p) * (1.0 / n0 + 1.0 / n1)) #standard error\n",
    "zscore = lambda p0, p1, s : (p0 - p1) / s\n",
    "\n",
    "# calculations\n",
    "\n",
    "sp_stdev_mw = se(p(weekend_under30, weekend_over30, norm_under30, norm_over30), norm_under30, norm_over30)\n",
    "# print (sp_stdev_mw)\n",
    "z = zscore(weekend_under30, weekend_over30, sp_stdev_mw)\n",
    "print (\"The z statistics is %.2f\"%z)"
   ]
  },
  {
   "cell_type": "markdown",
   "metadata": {},
   "source": [
    "# z-score is 49.81, far more than largest number in one-tailed z stats 0.05 as 1.65 one-tailed or 3 as two-tailed, thus p <<  0.05, it means we can reject the null hypothesis, and support the H1 which is riders over age 30 has less CitiBike rides than riders under age 30."
   ]
  },
  {
   "cell_type": "markdown",
   "metadata": {},
   "source": [
    "# Now lets do it with the $\\chi^2$ test"
   ]
  },
  {
   "cell_type": "markdown",
   "metadata": {},
   "source": [
    "print out all the information we need to do the chi square test"
   ]
  },
  {
   "cell_type": "code",
   "execution_count": 50,
   "metadata": {
    "scrolled": true
   },
   "outputs": [
    {
     "name": "stdout",
     "output_type": "stream",
     "text": [
      "total over30:  934674,\n",
      "total under30:  330438,\n",
      "week over 30 fraction:  0.823,\n",
      "weekend over 30 fraction:  0.177,\n",
      "week under 30 fraction:  0.784,\n",
      "weekend under 30 fraction:  0.216\n"
     ]
    }
   ],
   "source": [
    "print('total over30:  {0:d},\\ntotal under30:  {1:d},\\nweek over 30 fraction:  {2:.3f},\\nweekend over 30 fraction:  {3:.3f},\\nweek under 30 fraction:  {4:.3f},\\nweekend under 30 fraction:  {5:.3f}'.format(norm_over30,norm_under30,week_over30,weekend_over30,week_under30,weekend_under30))"
   ]
  },
  {
   "cell_type": "markdown",
   "metadata": {},
   "source": [
    "CHI Square Contigency Table"
   ]
  },
  {
   "cell_type": "markdown",
   "metadata": {},
   "source": [
    "| rideship                  |     on weekend        | not on weekend   |                      |\n",
    "|---------------------------|:---------------------:|------------------|----------------------|\n",
    "| age over 30               | $0.177*934674$        | $0.823*934674$   | 934674               |\n",
    "| age under 30              | $0.216*330438$        | $0.784*330438$   | 330438               |\n",
    "|                           |                       |                  |                      |\n",
    "| total                     | 236812                | 1028301          | 1265112              |"
   ]
  },
  {
   "cell_type": "code",
   "execution_count": 51,
   "metadata": {},
   "outputs": [
    {
     "name": "stdout",
     "output_type": "stream",
     "text": [
      "2440.534365316402\n"
     ]
    }
   ],
   "source": [
    "observations = [[0.177*934674, 0.823*934674], [0.216*330438, 0.784*330438]]\n",
    "N = 1265112\n",
    "ob1 = observations[0][0]+observations[1][0]\n",
    "ob2 = observations[0][1]+observations[1][1]\n",
    "expectation = 934674 * 330438 * ob1 * ob2\n",
    "chisqstat= lambda N, observations, expectation : N * ((observations[0][0] * observations[1][1]\n",
    "                                            -observations[0][1] * observations[1][0])**2) / expectation\n",
    "\n",
    "print (chisqstat(N, observations, expectation))"
   ]
  },
  {
   "cell_type": "markdown",
   "metadata": {},
   "source": [
    "# 2440.53 is way more than the 3.84 which means goes far into Chi square 0.05 end. So we can reject the NULL hypothesis that riders age over 30 has equal or more usage on weekend than riders age under 30."
   ]
  },
  {
   "cell_type": "code",
   "execution_count": null,
   "metadata": {
    "collapsed": true
   },
   "outputs": [],
   "source": []
  }
 ],
 "metadata": {
  "kernelspec": {
   "display_name": "Python 3",
   "language": "python",
   "name": "python3"
  },
  "language_info": {
   "codemirror_mode": {
    "name": "ipython",
    "version": 3
   },
   "file_extension": ".py",
   "mimetype": "text/x-python",
   "name": "python",
   "nbconvert_exporter": "python",
   "pygments_lexer": "ipython3",
   "version": "3.6.1"
  }
 },
 "nbformat": 4,
 "nbformat_minor": 2
}
